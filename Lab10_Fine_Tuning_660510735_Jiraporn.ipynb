{
  "cells": [
    {
      "cell_type": "markdown",
      "source": [
        "# **660510735 นางสาวจิราภรณ์ จันธิวงค์**"
      ],
      "metadata": {
        "id": "QjX8cE5CkPcK"
      }
    },
    {
      "cell_type": "markdown",
      "metadata": {
        "editable": true,
        "id": "UwO9dWzUA_US",
        "tags": []
      },
      "source": [
        "### Statistical Learning for Data Science 2 (229352)\n",
        "#### Instructor: Donlapark Ponnoprat\n",
        "\n",
        "#### [Course website](https://donlapark.pages.dev/229352/)\n",
        "\n",
        "## Lab #11"
      ]
    },
    {
      "cell_type": "markdown",
      "metadata": {
        "id": "sW22b2ZS39U0"
      },
      "source": [
        "# Fine-Tuning Qwen3 for Thai Text Reasoning\n",
        "\n",
        "Today, you will learn how to take a pre-trained Large Language Model (LLM) and specialize it for **Thai text reasoning** using the [Thai Reasoning Dataset](https://huggingface.co/datasets/iapp/Thai-R1-Distill-SFT).\n",
        "\n",
        "We will be using [**Unsloth**](https://docs.unsloth.ai/get-started/all-our-models) to speeds up finetuning and reduces memory usage, making it possible to train in Google Colab."
      ]
    },
    {
      "cell_type": "markdown",
      "source": [
        "If GPUs are not available in your Colab, you might want to try these two alternatives:\n",
        "1. [Kaggle](https://www.kaggle.com)\n",
        "2. [lightning.ai](https://lightning.ai)"
      ],
      "metadata": {
        "id": "HxUn-UACT3Oi"
      }
    },
    {
      "cell_type": "markdown",
      "metadata": {
        "id": "v0IcypqaA_Up"
      },
      "source": [
        "### Installation"
      ]
    },
    {
      "cell_type": "code",
      "execution_count": 2,
      "metadata": {
        "id": "ygjKNxNUA_Ur"
      },
      "outputs": [],
      "source": [
        "%%capture\n",
        "import os, re\n",
        "if \"COLAB_\" not in \"\".join(os.environ.keys()):\n",
        "    !pip install unsloth\n",
        "else:\n",
        "    # Do this only in Colab notebooks! Otherwise use pip install unsloth\n",
        "    import torch; v = re.match(r\"[0-9\\.]{3,}\", str(torch.__version__)).group(0)\n",
        "    xformers = \"xformers==\" + (\"0.0.32.post2\" if v == \"2.8.0\" else \"0.0.29.post3\")\n",
        "    !pip install --no-deps bitsandbytes accelerate {xformers} peft trl triton cut_cross_entropy unsloth_zoo\n",
        "    !pip install sentencepiece protobuf \"datasets>=3.4.1,<4.0.0\" \"huggingface_hub>=0.34.0\" hf_transfer\n",
        "    !pip install --no-deps unsloth\n",
        "!pip install transformers==4.55.4\n",
        "!pip install --no-deps trl==0.22.2"
      ]
    },
    {
      "cell_type": "markdown",
      "metadata": {
        "id": "iajq1W8ipjyK"
      },
      "source": [
        "### Fine-tuning Qwen3 with Unsloth"
      ]
    },
    {
      "cell_type": "markdown",
      "metadata": {
        "id": "MuRJVZSV39U9"
      },
      "source": [
        "#### Transformer in Qwen3 vs GPT-2\n",
        "<img src=\"https://substackcdn.com/image/fetch/$s_!GGk9!,f_auto,q_auto:good,fl_progressive:steep/https%3A%2F%2Fsubstack-post-media.s3.amazonaws.com%2Fpublic%2Fimages%2Fa8fa602a-aa4d-4526-9252-c2f09dd5de92_1871x1920.png\" alt=\"transformers\" width=\"600\"/>\n",
        "\n",
        "[Source: [Sebastian Raschka](https://magazine.sebastianraschka.com/p/qwen3-from-scratch)]"
      ]
    },
    {
      "cell_type": "code",
      "execution_count": 3,
      "metadata": {
        "id": "QmUBVEnvCDJv",
        "colab": {
          "base_uri": "https://localhost:8080/",
          "height": 604,
          "referenced_widgets": [
            "b8168ec796454bc8a6fac9e71fef6b45",
            "797fd7d13df0408988862bfbf82018c5",
            "bae80fbe321a45fc90c7d34c697c89c6",
            "a75652aa42c149c1991f6c439f5b7ab6",
            "d35d8d5604694ba7bc69ea29575247f5",
            "c79c2dd02177481fae748110c3c25e6d",
            "90bb07b815fb4066a90acdb70a968a75",
            "edee9923385f45ba9dffdfe39bde2393",
            "6920a79408ae44fd98888fd8ccaf4362",
            "ad726c41e4c6421aa00e4c3537452927",
            "a055991a994b48b59174aa6d81b70ef2",
            "7d7c93e254f64d008b0a11f63b746d9c",
            "a3e5dc216f5d4b0aa730ccfc27f328fe",
            "8928096178d642cc9b9109bbbf2f9512",
            "a2142967321c4187a93839931011f7b5",
            "8a82eb57eae040129347639b5294a867",
            "8d194ad1af1b46df875f9ac2f53327b2",
            "c4535d3a9ee94d9f95ae174a7bc17702",
            "3fdfc8f956034827bc02e461e20d6447",
            "5936ec39029244ecb308c56af8ea3c90",
            "2106950ab3ac403191b9f0b69019b651",
            "196b2f888f954c0bb10069165a42c21f",
            "abcf44cf5bef473d9e330a99b777d371",
            "de14638093564ac784d256dd98b6c9b1",
            "11a7ea514ae2490bb93773e913638bf6",
            "6ef7cc926ca547398de4c9f0106c9953",
            "c7bc24dbae9d471bb6b651fe451928c9",
            "f135b96c14014343bbf6400203e1ade9",
            "e91695f0c0ca404087daefe6795b6571",
            "f49a0441dbc8486eb45537fa4e0c51b3",
            "4b12e9bf02ec4b3e88c7279584f0255c",
            "32358943641b4468b052363cb3eab36b",
            "e8e9945e97534eac8ffc2c2bdfd22837",
            "f26251eaae8b416497545757905e48d9",
            "85ef271833a7445b9427591893dab9b0",
            "c0f123abb6774816a72a82d0ecb432ac",
            "b43a9f802c4a44b78808f8781c045551",
            "34c791ad33dd4b16b97e75ddf2e06a5c",
            "95265572166344478501c2df8464a439",
            "d0302e30ca244a71baab766a08987b7e",
            "b86975053c064c638da77e9fe56b9df5",
            "dda179fc12bb4727ab7b61e66e2e00d1",
            "9d27df21a8ad4ea4abd86e96b69bfca7",
            "1075515e7475408182d09695bac278ef",
            "9015433108f64fe3a2741cacacce6754",
            "c7f4216abf2548c687880643b28c36f7",
            "d0ba4601134e4c22959147edeb299097",
            "8618d521c664444285a9ab09963d8c47",
            "a514495cd5b24e6dbc3a486af1dd60a5",
            "e9fd6b132a5b4dcc9540fd5b5bce6000",
            "b30e11bb1a814693b98c335fa65a1101",
            "06c0e091b9fc4a88b19f85c32e239507",
            "568160aaefc6424185003d03184261a4",
            "b4a429283fd3400386b8cafaa30ab375",
            "dcc60759d26b460790aff79b19ceefc4",
            "e2d223afeba944d6bd928bb15f4ce067",
            "06b7c61b300147ada25d6d46046c8c6f",
            "b2725999c3894bd0a0fc2ad7f9dba375",
            "398630bb29d845eaac5f5df96de3a94f",
            "25f21639df594b3a97a1e4a7685c2ad5",
            "a344b849f15746f79312a03404e5c314",
            "ec62c79175d24e1096ba7afc66793804",
            "47093acb0b914a13a0ef4c0260bfa970",
            "2ca5fa0ffa5d47f8ae848a504bc4b93f",
            "ecb49905cc234774b865ff6568fcfd7a",
            "c1bfbbd752cf4258ab2f765a45d10bda",
            "1ebf2eb7391147909da400c696da55f5",
            "e02a3d1060c74f48a208e7d797ae4150",
            "da2137242ce544c1b85519aa09418a73",
            "7fc247c4741a48afac417e0a7cd7349e",
            "2e09cb92fd1f460bbd7151d81d409bc2",
            "716897c37bbb43a48fb2f8111bfa53ca",
            "1ad01d4a08a74d63901535dc99418e7f",
            "ad1ecac7d263499fbc0520cf4c0f0dc2",
            "e356f253b65f4e95934d9b6429580500",
            "7f13a9b9341b43baacbef3a47983c05d",
            "427c3dfe81674cb1b6be407e0f838ee6",
            "e8e61751b5eb44f2a89e1392222ed487",
            "c5776d05a67143abb129d24bf77d2c81",
            "93924e16846a495bacf6da9f4ee943b2",
            "7b2989c49dcc4af4847c86238458a7d3",
            "c1b8f649169a456cabfdca8ef7210299",
            "330ca091389c4ede8cce5c92701c9444",
            "b0331fb218d14550b1fc71d752172c0b",
            "d9c9125858ac4a47b85bcb9aaf5a9ba8",
            "dba42f155c4a43a0989a7baf8ad1de74",
            "8925320c191248178f8c309b74a6d39f",
            "520ff9d04e3143bdaf7045ae79c347f7",
            "d2f8fbc6fa54497aafc1a2c2edffeb2b",
            "e23263e951de4c55869e5134deb07b07",
            "0f9b0ee99abb43729c7b521c2f81a734",
            "b6b00e51efbb4b41a6809f1738081cd5",
            "3b104f878ca04a9dacf2849a9dda8c7c",
            "6a9eb22c7a764f9ca448ee558ae09687",
            "89f4ec78ba37422fbc0cf4474f6c5df9",
            "d866786af7bc40a087f05ef91b51586a",
            "e8ec85a037424c4da090669936051768",
            "e78a35a41fbc4fa0b65fd0f7c19fb6d1",
            "77d0f4c34ab142b483be15dddd348889",
            "df33b8e0ff46422aa26ea634ccb64903",
            "17f656b7bac54d32936c27dab082a5a1",
            "1f52fd8b1df042038dd8634ea9b6f898",
            "457b446a7426456c8933255405575b5d",
            "73bff38bca7042dc920c0a77161a5bc7",
            "bf30d3e13e3c45a6b8312d5d8674e8e2",
            "4a3fbc0e0a704f9bab7605b55d6ff890",
            "b7f14a3ec5cf4151b36ea8089ad92755",
            "d7bbfee529ba446fa3c82a07dba8e691",
            "1be880ff0f6a46faa71705855879a104",
            "93dc0a730927424aa01c371a0614569c",
            "6921c6803c60442fb4787bd777c77497",
            "ac4c30946d3f4aa9b12b864bf9cd2477",
            "3484a1650aa64278b9632a00250066f6",
            "b69092e1829842e8bd1643cda86d75f5",
            "696f483333194d75ac3f48ea0c067079",
            "49d944fc567c415e8cc427ea40f6ca6f",
            "6eb5cc65350b45778a55d63b87a8ef1b",
            "416064639a634018805293deec65b27e",
            "3c2c163d8f9c48fcb75ced5194e234ee",
            "33c13e42aa85435b87c4786155d24a42",
            "6d5e0f2b84354048b2ac90cf414caa04",
            "6e22ff22f53a4baca1228ab5ea430283",
            "21d3e177fa5a4bf692e65ccb396a317d",
            "c712c09fed7e471c923d4653c8e99d84",
            "2e3da638274f4f14a113ec1c4cdcf023",
            "406b866fa03e43fc8bc684f30a78cef3",
            "429cfff4859946c2af954de7e0bbca23",
            "ce68a246494a4d0eaef2d311e7e1e1f1",
            "41009bfb4ce84cdea46f4ec08f94922b",
            "d2e6b8132b864706a298b64de43c85ae",
            "57ec8bd57b8343269792064e19d2658f",
            "1c3f13926b9c4e91a319099397d30a3c",
            "a25ab263609e4968bdf025354d99b8fc",
            "cd764a2cc3a34d58a75a455b3475bd9a",
            "fc330113d38a48908080338c0e4a3cb8",
            "6b260cda2acf4b6f9bb44c85f65b71fd",
            "167fb819928941fb8f58dd3e22c4f988",
            "96948659c34e455da399d8c308a42b34",
            "e1d02b7a7d834d7d8b9c279621d5cedd",
            "c0126fc85c3e4bdb82e10f61803aea5d",
            "e9817c902be2449eab337002d3709f4d",
            "078ca38e9f9842d4ad9ecb90ae2c8100",
            "b28fb4363731464dbf7fe10091ea1086",
            "089718afdd9c4968bbdd034664ea9036",
            "bd6776fce727403d88eb204b24872416",
            "802371da738346fe9f13b65e10b994e3",
            "8ad619d4b16346799a4625f47ce414bc",
            "e5e88754dc374c8cb9a183dd15a3cfe6",
            "74060c5a7ad94c7aaaf0e9f721bbb9fc",
            "a1e15d322e1844d8959e1af2bdc9211c",
            "b729a3d79a304896bf6c02723e8907a0",
            "59524333371640d388459b12cdfdd7a4",
            "9d6b0fb2a5214a12ae6ffcfa51110dd1",
            "d87aa44fcb984c488d35ff1826f23bb6"
          ]
        },
        "outputId": "3c8a3f8e-5d1f-4126-c261-e361ae7628b2"
      },
      "outputs": [
        {
          "output_type": "stream",
          "name": "stdout",
          "text": [
            "🦥 Unsloth: Will patch your computer to enable 2x faster free finetuning.\n",
            "🦥 Unsloth Zoo will now patch everything to make training faster!\n",
            "==((====))==  Unsloth 2025.9.9: Fast Qwen3 patching. Transformers: 4.55.4.\n",
            "   \\\\   /|    Tesla T4. Num GPUs = 1. Max memory: 14.741 GB. Platform: Linux.\n",
            "O^O/ \\_/ \\    Torch: 2.8.0+cu126. CUDA: 7.5. CUDA Toolkit: 12.6. Triton: 3.4.0\n",
            "\\        /    Bfloat16 = FALSE. FA [Xformers = 0.0.32.post2. FA2 = False]\n",
            " \"-____-\"     Free license: http://github.com/unslothai/unsloth\n",
            "Unsloth: Fast downloading is enabled - ignore downloading bars which are red colored!\n"
          ]
        },
        {
          "output_type": "display_data",
          "data": {
            "text/plain": [
              "model.safetensors.index.json: 0.00B [00:00, ?B/s]"
            ],
            "application/vnd.jupyter.widget-view+json": {
              "version_major": 2,
              "version_minor": 0,
              "model_id": "b8168ec796454bc8a6fac9e71fef6b45"
            }
          },
          "metadata": {}
        },
        {
          "output_type": "display_data",
          "data": {
            "text/plain": [
              "Fetching 3 files:   0%|          | 0/3 [00:00<?, ?it/s]"
            ],
            "application/vnd.jupyter.widget-view+json": {
              "version_major": 2,
              "version_minor": 0,
              "model_id": "7d7c93e254f64d008b0a11f63b746d9c"
            }
          },
          "metadata": {}
        },
        {
          "output_type": "display_data",
          "data": {
            "text/plain": [
              "model-00001-of-00003.safetensors:   0%|          | 0.00/4.97G [00:00<?, ?B/s]"
            ],
            "application/vnd.jupyter.widget-view+json": {
              "version_major": 2,
              "version_minor": 0,
              "model_id": "abcf44cf5bef473d9e330a99b777d371"
            }
          },
          "metadata": {}
        },
        {
          "output_type": "display_data",
          "data": {
            "text/plain": [
              "model-00003-of-00003.safetensors:   0%|          | 0.00/1.56G [00:00<?, ?B/s]"
            ],
            "application/vnd.jupyter.widget-view+json": {
              "version_major": 2,
              "version_minor": 0,
              "model_id": "f26251eaae8b416497545757905e48d9"
            }
          },
          "metadata": {}
        },
        {
          "output_type": "display_data",
          "data": {
            "text/plain": [
              "model-00002-of-00003.safetensors:   0%|          | 0.00/4.59G [00:00<?, ?B/s]"
            ],
            "application/vnd.jupyter.widget-view+json": {
              "version_major": 2,
              "version_minor": 0,
              "model_id": "9015433108f64fe3a2741cacacce6754"
            }
          },
          "metadata": {}
        },
        {
          "output_type": "display_data",
          "data": {
            "text/plain": [
              "Loading checkpoint shards:   0%|          | 0/3 [00:00<?, ?it/s]"
            ],
            "application/vnd.jupyter.widget-view+json": {
              "version_major": 2,
              "version_minor": 0,
              "model_id": "e2d223afeba944d6bd928bb15f4ce067"
            }
          },
          "metadata": {}
        },
        {
          "output_type": "display_data",
          "data": {
            "text/plain": [
              "generation_config.json:   0%|          | 0.00/237 [00:00<?, ?B/s]"
            ],
            "application/vnd.jupyter.widget-view+json": {
              "version_major": 2,
              "version_minor": 0,
              "model_id": "1ebf2eb7391147909da400c696da55f5"
            }
          },
          "metadata": {}
        },
        {
          "output_type": "display_data",
          "data": {
            "text/plain": [
              "tokenizer_config.json: 0.00B [00:00, ?B/s]"
            ],
            "application/vnd.jupyter.widget-view+json": {
              "version_major": 2,
              "version_minor": 0,
              "model_id": "e8e61751b5eb44f2a89e1392222ed487"
            }
          },
          "metadata": {}
        },
        {
          "output_type": "display_data",
          "data": {
            "text/plain": [
              "vocab.json: 0.00B [00:00, ?B/s]"
            ],
            "application/vnd.jupyter.widget-view+json": {
              "version_major": 2,
              "version_minor": 0,
              "model_id": "d2f8fbc6fa54497aafc1a2c2edffeb2b"
            }
          },
          "metadata": {}
        },
        {
          "output_type": "display_data",
          "data": {
            "text/plain": [
              "merges.txt: 0.00B [00:00, ?B/s]"
            ],
            "application/vnd.jupyter.widget-view+json": {
              "version_major": 2,
              "version_minor": 0,
              "model_id": "df33b8e0ff46422aa26ea634ccb64903"
            }
          },
          "metadata": {}
        },
        {
          "output_type": "display_data",
          "data": {
            "text/plain": [
              "added_tokens.json:   0%|          | 0.00/707 [00:00<?, ?B/s]"
            ],
            "application/vnd.jupyter.widget-view+json": {
              "version_major": 2,
              "version_minor": 0,
              "model_id": "6921c6803c60442fb4787bd777c77497"
            }
          },
          "metadata": {}
        },
        {
          "output_type": "display_data",
          "data": {
            "text/plain": [
              "special_tokens_map.json:   0%|          | 0.00/614 [00:00<?, ?B/s]"
            ],
            "application/vnd.jupyter.widget-view+json": {
              "version_major": 2,
              "version_minor": 0,
              "model_id": "6e22ff22f53a4baca1228ab5ea430283"
            }
          },
          "metadata": {}
        },
        {
          "output_type": "display_data",
          "data": {
            "text/plain": [
              "tokenizer.json:   0%|          | 0.00/11.4M [00:00<?, ?B/s]"
            ],
            "application/vnd.jupyter.widget-view+json": {
              "version_major": 2,
              "version_minor": 0,
              "model_id": "a25ab263609e4968bdf025354d99b8fc"
            }
          },
          "metadata": {}
        },
        {
          "output_type": "display_data",
          "data": {
            "text/plain": [
              "chat_template.jinja: 0.00B [00:00, ?B/s]"
            ],
            "application/vnd.jupyter.widget-view+json": {
              "version_major": 2,
              "version_minor": 0,
              "model_id": "089718afdd9c4968bbdd034664ea9036"
            }
          },
          "metadata": {}
        }
      ],
      "source": [
        "from unsloth import FastLanguageModel\n",
        "import torch\n",
        "\n",
        "model, tokenizer = FastLanguageModel.from_pretrained(\n",
        "    model_name = \"unsloth/Qwen3-14B\",\n",
        "    max_seq_length = 2048,   # Context length - can be longer, but uses more memory\n",
        "    load_in_4bit = True,     # 4bit uses much less memory\n",
        "    load_in_8bit = False,    # A bit more accurate, uses 2x memory\n",
        "    full_finetuning = False, # We have full finetuning now!\n",
        ")"
      ]
    },
    {
      "cell_type": "markdown",
      "source": [
        "#### Low-Rank Adaptation (LoRA)\n",
        "<img src=\"https://substackcdn.com/image/fetch/$s_!LXL5!,f_auto,q_auto:good,fl_progressive:steep/https%3A%2F%2Fsubstack-post-media.s3.amazonaws.com%2Fpublic%2Fimages%2F7ab94b67-4efa-45e2-9a77-3121d6c88c45_1284x364.png\" alt=\"LoRA\" width=\"600\"/>\n",
        "\n",
        "[Source: [Dasha Herrmannova](https://oneminutenlp.com/p/low-rank-adaptation)]"
      ],
      "metadata": {
        "id": "VHEgz3lv5YXH"
      }
    },
    {
      "cell_type": "markdown",
      "metadata": {
        "id": "SXd9bTZd1aaL"
      },
      "source": [
        "We now add LoRA adapters so we only need to update 1 to 10% of all parameters!"
      ]
    },
    {
      "cell_type": "code",
      "execution_count": 4,
      "metadata": {
        "id": "6bZsfBuZDeCL",
        "colab": {
          "base_uri": "https://localhost:8080/"
        },
        "outputId": "db1c9acd-3708-4b2d-bea8-2053ebb613da"
      },
      "outputs": [
        {
          "output_type": "stream",
          "name": "stderr",
          "text": [
            "Unsloth 2025.9.9 patched 40 layers with 40 QKV layers, 40 O layers and 40 MLP layers.\n"
          ]
        }
      ],
      "source": [
        "model = FastLanguageModel.get_peft_model(\n",
        "    model,\n",
        "    r = 32,           # Choose any number > 0! Suggested 8, 16, 32, 64, 128\n",
        "    target_modules = [\"q_proj\", \"k_proj\", \"v_proj\", \"o_proj\",\n",
        "                      \"gate_proj\", \"up_proj\", \"down_proj\",],\n",
        "    lora_alpha = 32,  # Best to choose alpha = rank or rank*2\n",
        "    lora_dropout = 0, # Supports any, but = 0 is optimized\n",
        "    bias = \"none\",    # Supports any, but = \"none\" is optimized\n",
        "    # [NEW] \"unsloth\" uses 30% less VRAM, fits 2x larger batch sizes!\n",
        "    use_gradient_checkpointing = \"unsloth\", # True or \"unsloth\" for very long context\n",
        "    random_state = 3407,\n",
        "    use_rslora = False,   # We support rank stabilized LoRA\n",
        "    loftq_config = None,  # And LoftQ\n",
        ")"
      ]
    },
    {
      "cell_type": "markdown",
      "metadata": {
        "id": "vITh0KVJ10qX"
      },
      "source": [
        "<a name=\"Data\"></a>\n",
        "### Data Prep\n",
        "Use the [Thai Reasoning Dataset](https://huggingface.co/datasets/iapp/Thai-R1-Distill-SFT) provided by [iApp Technology](https://iapp.co.th/)."
      ]
    },
    {
      "cell_type": "code",
      "execution_count": 5,
      "metadata": {
        "id": "5kyTw2n1edte",
        "colab": {
          "base_uri": "https://localhost:8080/",
          "height": 113,
          "referenced_widgets": [
            "d9671a1255d74f4fa9458b48ac097eb8",
            "dec8d8433e7340939ae7f9ba0bf489c6",
            "7f4ee4358e27473cb892cf26216c35d5",
            "038b98b461da4c77b5a79db17303c1f6",
            "f4470e11dfc74632973f690d5751bcdf",
            "50be86171b444d839e1c97aaefdf591e",
            "29f0c7bd393f4256b73268390e032810",
            "302ea6d6dd07488b9c46b60e1b209315",
            "4658018cd611472799a76f215d8977dd",
            "4d91c6d7c43b4279b114c8cba80f75ca",
            "14b9ce225bc04ae0a850fc6eed82950f",
            "da5fda542f974e33a4705a4963843ada",
            "d758118857f2402ca210fea87d3339a9",
            "62aed14552f14638b5425274d5a2ffe3",
            "749601acd3bd494a891a4c516f972659",
            "c15365bb45384f2085c42bd3f4af9313",
            "59cbcb0263cb4656b87b1bcff85d3ae6",
            "a09f52abb2ce4a988f75da36b33de036",
            "eaa8f4207c7747da8216a44cfbc4a475",
            "cdeff6de899e48fabd9a460b4eff2c48",
            "db928807c532477b817924f8974cf9a4",
            "ef3f66483cbc47fa8926756536ac9b46",
            "85cb51ea70084159a13188583301f284",
            "160c3680fc2649019c5f635945f2e35d",
            "155c8693b896441384a39c5ce28380ba",
            "2da2ee6acdf24d9692b33152df6ed9f8",
            "de208a95c19c479aa47a0f2a84500376",
            "1d604e50318447a6875f3a908bee0a12",
            "f5478f78152f4cc88f7aac206e5acb6e",
            "af9e6dccbb69450db7e0802ac0f6c4a0",
            "f4e9f92a80254cebaf77e912ee829f4d",
            "65c45702f56647a6b99749abd6474cd0",
            "a37a81526ab54058ad4a293ca1f60653"
          ]
        },
        "outputId": "d1bac9cd-e8cc-48a7-80e2-35409a688b21"
      },
      "outputs": [
        {
          "output_type": "display_data",
          "data": {
            "text/plain": [
              "README.md:   0%|          | 0.00/231 [00:00<?, ?B/s]"
            ],
            "application/vnd.jupyter.widget-view+json": {
              "version_major": 2,
              "version_minor": 0,
              "model_id": "d9671a1255d74f4fa9458b48ac097eb8"
            }
          },
          "metadata": {}
        },
        {
          "output_type": "display_data",
          "data": {
            "text/plain": [
              "train.jsonl:   0%|          | 0.00/95.5M [00:00<?, ?B/s]"
            ],
            "application/vnd.jupyter.widget-view+json": {
              "version_major": 2,
              "version_minor": 0,
              "model_id": "da5fda542f974e33a4705a4963843ada"
            }
          },
          "metadata": {}
        },
        {
          "output_type": "display_data",
          "data": {
            "text/plain": [
              "Generating train split:   0%|          | 0/10000 [00:00<?, ? examples/s]"
            ],
            "application/vnd.jupyter.widget-view+json": {
              "version_major": 2,
              "version_minor": 0,
              "model_id": "85cb51ea70084159a13188583301f284"
            }
          },
          "metadata": {}
        }
      ],
      "source": [
        "from datasets import load_dataset\n",
        "reasoning_dataset = load_dataset(\"iapp/Thai-R1-Distill-SFT\", split = \"train\")"
      ]
    },
    {
      "cell_type": "markdown",
      "metadata": {
        "id": "PTZICZtie3lQ"
      },
      "source": [
        "Let's see the structure of both datasets:"
      ]
    },
    {
      "cell_type": "code",
      "execution_count": 6,
      "metadata": {
        "id": "DjgH3lt0e2Sz",
        "colab": {
          "base_uri": "https://localhost:8080/"
        },
        "outputId": "81832552-2f9e-428f-bf2a-e8715aca08c4"
      },
      "outputs": [
        {
          "output_type": "execute_result",
          "data": {
            "text/plain": [
              "Dataset({\n",
              "    features: ['reannotated_assistant_content', 'problem', 'solution', 'id', 'source', 'verified', 'quality_metrics'],\n",
              "    num_rows: 10000\n",
              "})"
            ]
          },
          "metadata": {},
          "execution_count": 6
        }
      ],
      "source": [
        "reasoning_dataset"
      ]
    },
    {
      "cell_type": "markdown",
      "metadata": {
        "id": "YX8H3urDe00l"
      },
      "source": [
        "We now convert the reasoning dataset into conversational format:"
      ]
    },
    {
      "cell_type": "code",
      "execution_count": 7,
      "metadata": {
        "id": "LjY75GoYUCB8"
      },
      "outputs": [],
      "source": [
        "def generate_conversation(examples):\n",
        "    problems  = examples[\"problem\"]\n",
        "    solutions = examples[\"reannotated_assistant_content\"]\n",
        "    conversations = []\n",
        "    for problem, solution in zip(problems, solutions):\n",
        "        conversations.append([\n",
        "            {\"role\" : \"user\",      \"content\" : problem},\n",
        "            {\"role\" : \"assistant\", \"content\" : solution},\n",
        "        ])\n",
        "    return { \"conversations\": conversations, }"
      ]
    },
    {
      "cell_type": "code",
      "execution_count": 8,
      "metadata": {
        "id": "gbh19fTOfHDB",
        "colab": {
          "base_uri": "https://localhost:8080/",
          "height": 49,
          "referenced_widgets": [
            "f041611386aa40f397b8004fface8971",
            "9cce8a5cabc5496d9c35afbc4be2e7c9",
            "f31179da5a664c859b242b26f61f1f11",
            "6aff2feddefe4a85839cda29460e093d",
            "99d647ff0c544c8fb20974dc4c55d363",
            "2575d706e648465fbe6bc7b021eaee18",
            "7db38cf99f804ba3a2e00c7460f3cdd1",
            "7af829f36cb745e481433e57774b4d40",
            "82f43602122348fa9ebe368ff0c79d90",
            "798684016d8d40b8b1d75c00d2d8f5eb",
            "9b6e1b312ffe4782a4c586df0e8de500"
          ]
        },
        "outputId": "332a3057-4a71-49c5-a337-4fba25c262bd"
      },
      "outputs": [
        {
          "output_type": "display_data",
          "data": {
            "text/plain": [
              "Map:   0%|          | 0/10000 [00:00<?, ? examples/s]"
            ],
            "application/vnd.jupyter.widget-view+json": {
              "version_major": 2,
              "version_minor": 0,
              "model_id": "f041611386aa40f397b8004fface8971"
            }
          },
          "metadata": {}
        }
      ],
      "source": [
        "reasoning_conversations = tokenizer.apply_chat_template(\n",
        "    reasoning_dataset.map(generate_conversation, batched = True)[\"conversations\"],\n",
        "    tokenize = False,\n",
        ")"
      ]
    },
    {
      "cell_type": "markdown",
      "metadata": {
        "id": "XTexROzQfJn5"
      },
      "source": [
        "Let's see the first transformed row:"
      ]
    },
    {
      "cell_type": "code",
      "execution_count": 9,
      "metadata": {
        "id": "mkj4c6NrfIz3",
        "colab": {
          "base_uri": "https://localhost:8080/",
          "height": 87
        },
        "outputId": "8bb9606e-b194-4077-d348-ff5840040ec5"
      },
      "outputs": [
        {
          "output_type": "execute_result",
          "data": {
            "text/plain": [
              "'<|im_start|>user\\nมีเด็กชาย 27 คนและเด็กหญิง 35 คนอยู่ในสนามเด็กเล่นในช่วงพัก มีเด็ก _____ คนอยู่ในสนามเด็กเล่นในช่วงพัก<|im_end|>\\n<|im_start|>assistant\\n<think>\\nก่อนอื่น ฉันต้องคำนวณจำนวนเด็กทั้งหมดในสนามเด็กเล่นโดยนำจำนวนเด็กชายและเด็กหญิงมาบวกกัน มีเด็กชาย 27 คนและเด็กหญิง 35 คน เมื่อบวกกันแล้ว เด็กชาย 27 คน + เด็กหญิง 35 คน = เด็ก 62 คน ดังนั้น จำนวนเด็กทั้งหมดในสนามเด็กเล่นคือ 62 คน\\n</think>\\n\\n ในการหาจำนวนเด็กทั้งหมดในสนามเด็กเล่น เราเพียงแค่บวกจำนวนเด็กชายและเด็กหญิงเข้าด้วยกัน \\\\[ \\\\text{จำนวนเด็กทั้งหมด} = \\\\text{จำนวนเด็กชาย} + \\\\text{จำนวนเด็กหญิง} \\\\] แทนค่าที่กำหนด: \\\\[ \\\\text{จำนวนเด็กทั้งหมด} = 27 \\\\text{ เด็กชาย} + 35 \\\\text{ เด็กหญิง} = 62 \\\\text{ เด็ก} \\\\] **คำตอบสุดท้าย:** \\\\[ \\\\boxed{62} \\\\]<|im_end|>\\n'"
            ],
            "application/vnd.google.colaboratory.intrinsic+json": {
              "type": "string"
            }
          },
          "metadata": {},
          "execution_count": 9
        }
      ],
      "source": [
        "reasoning_conversations[0]"
      ]
    },
    {
      "cell_type": "code",
      "execution_count": 10,
      "metadata": {
        "id": "unDFuUq1foWj",
        "colab": {
          "base_uri": "https://localhost:8080/"
        },
        "outputId": "b439cef8-4772-4d7f-ac2b-f6bc99819def"
      },
      "outputs": [
        {
          "output_type": "stream",
          "name": "stdout",
          "text": [
            "10000\n"
          ]
        }
      ],
      "source": [
        "print(len(reasoning_conversations))"
      ]
    },
    {
      "cell_type": "code",
      "execution_count": 11,
      "metadata": {
        "id": "jfV47_SXgXH4"
      },
      "outputs": [],
      "source": [
        "import pandas as pd\n",
        "\n",
        "data = pd.Series(reasoning_conversations)\n",
        "data.name = \"text\"\n",
        "\n",
        "from datasets import Dataset\n",
        "prepared_dataset = Dataset.from_pandas(pd.DataFrame(data))\n",
        "prepared_dataset = prepared_dataset.shuffle(seed = 3407)"
      ]
    },
    {
      "cell_type": "markdown",
      "metadata": {
        "id": "idAEIeSQ3xdS"
      },
      "source": [
        "<a name=\"Train\"></a>\n",
        "### Train the model\n",
        "Now let's train our model. We do 60 steps to speed things up, but you can set `num_train_epochs=1` for a full run, and turn off `max_steps=None`."
      ]
    },
    {
      "cell_type": "code",
      "execution_count": 12,
      "metadata": {
        "id": "95_Nn-89DhsL",
        "colab": {
          "base_uri": "https://localhost:8080/",
          "height": 49,
          "referenced_widgets": [
            "502b7e852391401b878a0176728283f7",
            "248f3b40ae774448979a8a1eefb288aa",
            "2f30b2c235934a1984b3458972568420",
            "6fd5bea1d1464cbcbd64428b83f32e89",
            "c93efab05b6244029e0f7b09b7bf4da4",
            "f5661f61a8ce4553a8c74ca4af42491e",
            "d2514dc0f7f64d6eaa18821abcc35ceb",
            "165737bd0dd24ff69af81df4671221c4",
            "d5bf1a6d11ec4364bb6603c34b274d3d",
            "ff40eba099634ea78e5f7d1674bb402f",
            "105278c6dde54df7813a489d124e1efa"
          ]
        },
        "outputId": "5e65bf0d-b56f-4037-d9f3-23bb39fb0c60"
      },
      "outputs": [
        {
          "output_type": "display_data",
          "data": {
            "text/plain": [
              "Unsloth: Tokenizing [\"text\"] (num_proc=6):   0%|          | 0/10000 [00:00<?, ? examples/s]"
            ],
            "application/vnd.jupyter.widget-view+json": {
              "version_major": 2,
              "version_minor": 0,
              "model_id": "502b7e852391401b878a0176728283f7"
            }
          },
          "metadata": {}
        }
      ],
      "source": [
        "import gc\n",
        "from trl import SFTTrainer, SFTConfig\n",
        "\n",
        "# Free some memory\n",
        "gc.collect()\n",
        "torch.cuda.empty_cache()\n",
        "\n",
        "trainer = SFTTrainer(\n",
        "    model = model,\n",
        "    tokenizer = tokenizer,\n",
        "    train_dataset = prepared_dataset,\n",
        "    eval_dataset = None, # Can set up evaluation!\n",
        "    args = SFTConfig(\n",
        "        dataset_text_field = \"text\",\n",
        "        per_device_train_batch_size = 2,\n",
        "        gradient_accumulation_steps = 4, # Use GA to mimic batch size!\n",
        "        warmup_steps = 5,\n",
        "        # num_train_epochs = 1, # Set this for 1 full training run.\n",
        "        max_steps = 15,\n",
        "        learning_rate = 2e-4, # Reduce to 2e-5 for long training runs\n",
        "        logging_steps = 1,\n",
        "        optim = \"adamw_8bit\",\n",
        "        weight_decay = 0.01,\n",
        "        lr_scheduler_type = \"linear\",\n",
        "        seed = 3407,\n",
        "        report_to = \"none\", # Use this for WandB etc\n",
        "    ),\n",
        ")"
      ]
    },
    {
      "cell_type": "markdown",
      "metadata": {
        "id": "M9fa371ShyhB"
      },
      "source": [
        "Let's train the model! To resume a training run, set `trainer.train(resume_from_checkpoint = True)`"
      ]
    },
    {
      "cell_type": "code",
      "execution_count": 13,
      "metadata": {
        "id": "yqxqAZ7KJ4oL",
        "colab": {
          "base_uri": "https://localhost:8080/",
          "height": 650
        },
        "outputId": "1467ac43-ba89-41b4-e9f6-0af8f8ca53ae"
      },
      "outputs": [
        {
          "output_type": "stream",
          "name": "stderr",
          "text": [
            "==((====))==  Unsloth - 2x faster free finetuning | Num GPUs used = 1\n",
            "   \\\\   /|    Num examples = 10,000 | Num Epochs = 1 | Total steps = 15\n",
            "O^O/ \\_/ \\    Batch size per device = 2 | Gradient accumulation steps = 4\n",
            "\\        /    Data Parallel GPUs = 1 | Total batch size (2 x 4 x 1) = 8\n",
            " \"-____-\"     Trainable parameters = 128,450,560 of 14,896,757,760 (0.86% trained)\n"
          ]
        },
        {
          "output_type": "stream",
          "name": "stdout",
          "text": [
            "Unsloth: Will smartly offload gradients to save VRAM!\n"
          ]
        },
        {
          "output_type": "display_data",
          "data": {
            "text/plain": [
              "<IPython.core.display.HTML object>"
            ],
            "text/html": [
              "\n",
              "    <div>\n",
              "      \n",
              "      <progress value='15' max='15' style='width:300px; height:20px; vertical-align: middle;'></progress>\n",
              "      [15/15 16:51, Epoch 0/1]\n",
              "    </div>\n",
              "    <table border=\"1\" class=\"dataframe\">\n",
              "  <thead>\n",
              " <tr style=\"text-align: left;\">\n",
              "      <th>Step</th>\n",
              "      <th>Training Loss</th>\n",
              "    </tr>\n",
              "  </thead>\n",
              "  <tbody>\n",
              "    <tr>\n",
              "      <td>1</td>\n",
              "      <td>0.779200</td>\n",
              "    </tr>\n",
              "    <tr>\n",
              "      <td>2</td>\n",
              "      <td>0.762300</td>\n",
              "    </tr>\n",
              "    <tr>\n",
              "      <td>3</td>\n",
              "      <td>0.630700</td>\n",
              "    </tr>\n",
              "    <tr>\n",
              "      <td>4</td>\n",
              "      <td>0.587800</td>\n",
              "    </tr>\n",
              "    <tr>\n",
              "      <td>5</td>\n",
              "      <td>0.661200</td>\n",
              "    </tr>\n",
              "    <tr>\n",
              "      <td>6</td>\n",
              "      <td>0.565100</td>\n",
              "    </tr>\n",
              "    <tr>\n",
              "      <td>7</td>\n",
              "      <td>0.578800</td>\n",
              "    </tr>\n",
              "    <tr>\n",
              "      <td>8</td>\n",
              "      <td>0.447900</td>\n",
              "    </tr>\n",
              "    <tr>\n",
              "      <td>9</td>\n",
              "      <td>0.506500</td>\n",
              "    </tr>\n",
              "    <tr>\n",
              "      <td>10</td>\n",
              "      <td>0.504600</td>\n",
              "    </tr>\n",
              "    <tr>\n",
              "      <td>11</td>\n",
              "      <td>0.639000</td>\n",
              "    </tr>\n",
              "    <tr>\n",
              "      <td>12</td>\n",
              "      <td>0.547100</td>\n",
              "    </tr>\n",
              "    <tr>\n",
              "      <td>13</td>\n",
              "      <td>0.480900</td>\n",
              "    </tr>\n",
              "    <tr>\n",
              "      <td>14</td>\n",
              "      <td>0.441500</td>\n",
              "    </tr>\n",
              "    <tr>\n",
              "      <td>15</td>\n",
              "      <td>0.540600</td>\n",
              "    </tr>\n",
              "  </tbody>\n",
              "</table><p>"
            ]
          },
          "metadata": {}
        }
      ],
      "source": [
        "trainer_stats = trainer.train()"
      ]
    },
    {
      "cell_type": "markdown",
      "metadata": {
        "id": "ekOmTR1hSNcr"
      },
      "source": [
        "<a name=\"Inference\"></a>\n",
        "### Inference\n",
        "Let's run the model via Unsloth native inference! According to the `Qwen-3` team, the recommended settings for reasoning inference are `temperature = 0.6, top_p = 0.95, top_k = 20`\n",
        "\n",
        "For normal chat based inference, `temperature = 0.7, top_p = 0.8, top_k = 20`"
      ]
    },
    {
      "cell_type": "code",
      "execution_count": 14,
      "metadata": {
        "id": "kR3gIAX-SM2q",
        "colab": {
          "base_uri": "https://localhost:8080/"
        },
        "outputId": "f9ab6680-f4d9-4c5a-87f2-5dc23790c733"
      },
      "outputs": [
        {
          "output_type": "stream",
          "name": "stdout",
          "text": [
            "<think>\n",
            "โอเค ฉันต้องหาจำนวนเต็ม x และ y ทั้งหมดที่ทำให้สมการ x² - y² = 5 เป็นจริง ฉันรู้ว่า x² - y² สามารถแยกตัวประกอบได้เป็น (x - y)(x + y) ดังนั้น สมการที่กำหนดจึงกลายเป็น (x - y)(x + y) = 5 ตอนนี้ 5 เป็นจำนวนเฉพาะ ดังนั้น ตัวประกอบของมันจึงเป็น 1 และ 5 หรือ -1 และ -5 ฉันต้องพิจารณาทั้งสองกรณี: กรณี 1: x - y = 1 และ x + y = 5 ฉันสามารถแก้ระบบเหล่านี้เพื่อหา x และ y ได้โดยการเพิ่มสมการทั้งสอง: (x - y) + (x + y) = 1 + 5 → 2x = 6 → x = 3 เมื่อแทนค่า x = 3 ลงในสมการ x - y = 1: 3 - y = 1 → y = 2 ดังนั้น หนึ่งในคำตอบคือ x = 3 และ y = 2 กรณี 2: x - y = -1 และ x + y = -5 ฉันสามารถแก้ระบบเหล่านี้ได้โดยการเพิ่มสมการทั้งสอง: (x - y) + (x + y) = -1 + (-5) → 2x = -6 → x = -3 เมื่อแทนค่า x = -3 ลงในสมการ x - y = -1: -3 - y = -1 → y = -2 ดังนั้น อีกคำตอบหนึ่งคือ x = -3 และ y = -2 ดังนั้น จำนวนเต็ม x และ y ทั้งหมดที่ทำให้สมการ x² - y² = 5 เป็นจริงคือ (3, 2) และ (-3, -2) นี่คือคำตอบทั้งหมดเพราะ 5 มีตัวประกอบเพียง 1, 5, -1 และ -5 และฉันได้พิจารณาทุกกรณีที่เป็นไปได้ ดังนั้น คำตอบสุดท้ายคือ (3, 2) และ (-3, -2) หรือ x = 3, y = 2 และ x = -3, y = -2\n",
            "</think>\n",
            "\n",
            "**ขั้นตอนการแก้สมการ x² - y² = 5:**\n",
            "\n",
            "1. **แยกตัวประกอบสมการ:**  \n",
            "   x² - y² = (x - y)(x + y) = 5\n",
            "\n",
            "2. **พิจารณาตัวประกอบของ 5:**  \n",
            "   ตัวประกอบของ 5 คือ (1, 5), (-1, -5)\n",
            "\n",
            "3. **แก้ระบบสมการสำหรับแต่ละคู่ตัวประกอบ:**\n",
            "\n",
            "   - **กรณี 1:** x - y = 1 และ x + y = 5  \n",
            "     - เพิ่มสมการ: 2x = 6 → x = 3  \n",
            "     - แทนค่า x = 3 ใน x - y = 1: 3 - y = 1 → y = 2  \n",
            "     - คำตอบ: (x, y) = (3, 2)\n",
            "\n",
            "   - **กรณี 2:** x - y = -1 และ x + y = -5  \n",
            "     - เพิ่มสมการ: 2x = -6 → x = -3  \n",
            "     - แทนค่า x = -3 ใน x - y = -1: -3 - y = -1 → y = -2  \n",
            "     - คำตอบ: (x, y) = (-3, -2)\n",
            "\n",
            "4. **สรุปคำตอบ:**  \n",
            "   จำนวนเต็ม x และ y ทั้งหมดที่ทำให้สมการ x² - y² = 5 เป็นจริงคือ:  \n",
            "   **(3, 2)** และ **(-3, -2)**\n",
            "\n",
            "**คำตอบสุดท้าย:**  \n",
            "**x = 3, y = 2** และ **x = -3, y = -2**<|im_end|>\n"
          ]
        }
      ],
      "source": [
        "FastLanguageModel.for_inference(model)\n",
        "\n",
        "messages = [\n",
        "    {\"role\" : \"user\", \"content\" : \"จงหาจำนวนเต็ม x และ y ทั้งหมดที่ x^2 - y^2 = 5\"}\n",
        "]\n",
        "text = tokenizer.apply_chat_template(\n",
        "    messages,\n",
        "    tokenize = False,\n",
        "    add_generation_prompt = True, # Must add for generation\n",
        "    enable_thinking = True, # Enable thinking\n",
        ")\n",
        "\n",
        "from transformers import TextStreamer\n",
        "_ = model.generate(\n",
        "    **tokenizer(text, return_tensors = \"pt\").to(\"cuda\"),\n",
        "    max_new_tokens = 1024, # Increase for longer outputs!\n",
        "    temperature = 0.7, top_p = 0.8, top_k = 20, # For non thinking\n",
        "    streamer = TextStreamer(tokenizer, skip_prompt = True),\n",
        ")"
      ]
    },
    {
      "cell_type": "markdown",
      "metadata": {
        "id": "GL_DcLXN39Vj"
      },
      "source": [
        "### Exercise 1: Ask the model a challenging math problem. You may increase the value of `max_new_tokens` if the model's answer is too short. Does the model solve your problem correctly?"
      ]
    },
    {
      "cell_type": "code",
      "execution_count": 15,
      "metadata": {
        "id": "EKZRJapm39Vl",
        "colab": {
          "base_uri": "https://localhost:8080/"
        },
        "outputId": "09d4f515-1047-4407-e9f1-e7599c03c64f"
      },
      "outputs": [
        {
          "output_type": "stream",
          "name": "stdout",
          "text": [
            "<think>\n",
            "โอเค ฉันต้องหาค่าสูงสุดของฟังก์ชัน f(x) = x³ - 6x² + 5 บนช่วง [-3, 5] นี่คือวิธีที่ฉันจะทำ ฟังก์ชัน f(x) เป็นพหุนาม ซึ่งหมายความว่ามันจะมีอนุพันธ์ที่ต่อเนื่องและไม่เป็นอนุพันธ์ในช่วงที่กำหนด ดังนั้น จุดสูงสุดและจุดต่ำสุดจึงจะอยู่ที่จุดปลายของช่วงหรือจุดที่อนุพันธ์เป็นศูนย์ ขั้นแรก ฉันจะหาอนุพันธ์ของ f(x) อนุพันธ์ของ x³ คือ 3x² อนุพันธ์ของ -6x² คือ -12x และอนุพันธ์ของ 5 คือ 0 ดังนั้น อนุพันธ์ของ f(x) คือ f'(x) = 3x² - 12x ต่อไป ฉันจะหาจุดที่อนุพันธ์เป็นศูนย์ ดังนั้น 3x² - 12x = 0 ฉันสามารถแยกตัวประกอบ 3x ได้ 3x(x - 4) = 0 ดังนั้น จุดที่อนุพันธ์เป็นศูนย์คือ x = 0 และ x = 4 ตอนนี้ ฉันจะหาค่า f(x) ที่จุดเหล่านี้และที่จุดปลายของช่วง จุดเหล่านี้คือ x = -3, x = 0, x = 4 และ x = 5 ฉันจะคำนวณ f(-3): f(-3) = (-3)³ - 6(-3)² + 5 = -27 - 54 + 5 = -76 ฉันจะคำนวณ f(0): f(0) = (0)³ - 6(0)² + 5 = 0 - 0 + 5 = 5 ฉันจะคำนวณ f(4): f(4) = (4)³ - 6(4)² + 5 = 64 - 96 + 5 = -27 ฉันจะคำนวณ f(5): f(5) = (5)³ - 6(5)² + 5 = 125 - 150 + 5 = -20 ตอนนี้ ฉันจะเปรียบเทียบค่าเหล่านี้: f(-3) = -76, f(0) = 5, f(4) = -27 และ f(5) = -20 ค่าสูงสุดคือ 5 ซึ่งเกิดขึ้นที่ x = 0 ดังนั้น ค่าสูงสุดของ f(x) บนช่วง [-3, 5] คือ 5 ที่ x = 0\n",
            "</think>\n",
            "\n",
            "ขั้นแรก หาอนุพันธ์ของ f(x): f'(x) = 3x² - 12x หาจุดที่อนุพันธ์เป็นศูนย์: 3x² - 12x = 0 แยกตัวประกอบ: 3x(x - 4) = 0 จุดเหล่านี้คือ x = 0 และ x = 4 หาค่า f(x) ที่จุดเหล่านี้และที่จุดปลายของช่วง: f(-3) = -76, f(0) = 5, f(4) = -27 และ f(5) = -20 ค่าสูงสุดคือ 5 ซึ่งเกิดขึ้นที่ x = 0 ดังนั้น ค่าสูงสุดของ f(x) บนช่วง [-3, 5] คือ 5 ที่ x = 0<|im_end|>\n"
          ]
        }
      ],
      "source": [
        "### YOUR CODE HERE ###\n",
        "messages = [\n",
        "    {\"role\" : \"user\", \"content\" : \"จงหาค่าสูงสุดของฟังก์ชัน $f(x) = x^3 - 6x^2 + 5$ บนช่วง [-3, 5]\"}\n",
        "]\n",
        "text = tokenizer.apply_chat_template(\n",
        "    messages,\n",
        "    tokenize = False,\n",
        "    add_generation_prompt = True, # Must add for generation\n",
        "    enable_thinking = True, # Enable thinking\n",
        ")\n",
        "\n",
        "from transformers import TextStreamer\n",
        "_ = model.generate(\n",
        "    **tokenizer(text, return_tensors = \"pt\").to(\"cuda\"),\n",
        "    max_new_tokens = 2048, # Increase for longer outputs!\n",
        "    temperature = 0.7, top_p = 0.8, top_k = 20, # For non thinking\n",
        "    streamer = TextStreamer(tokenizer, skip_prompt = True),\n",
        ")"
      ]
    },
    {
      "cell_type": "markdown",
      "metadata": {
        "id": "lTXuBGch39Vm"
      },
      "source": [
        "**Answer to Exercise 1**\n",
        "\n",
        "- ค่าสูงสุดของ f(x) บนช่วง [-3, 5] คือ 5 ที่ x = 0"
      ]
    },
    {
      "cell_type": "markdown",
      "metadata": {
        "id": "uWuXN2Xq39Vm"
      },
      "source": [
        "### Visualizing Attention"
      ]
    },
    {
      "cell_type": "markdown",
      "metadata": {
        "id": "3Ga8dc-V39Vn"
      },
      "source": [
        "### Exercise 2: Fill in the ##TODO## part in the `visualize_attention()` function below to calculate the product between the query matrix `Q` and the key matrix `K`."
      ]
    },
    {
      "cell_type": "code",
      "execution_count": 20,
      "metadata": {
        "id": "Ug6jnMNh39Vq"
      },
      "outputs": [],
      "source": [
        "import matplotlib.pyplot as plt\n",
        "import numpy as np\n",
        "\n",
        "# Define the helper function to perform the rotation\n",
        "def rotate_half(x):\n",
        "    \"\"\"Rotates half the hidden dimensions of the input.\"\"\"\n",
        "    x1 = x[..., : x.shape[-1] // 2]\n",
        "    x2 = x[..., x.shape[-1] // 2 :]\n",
        "    return torch.cat((-x2, x1), dim=-1)\n",
        "\n",
        "# Define a global dictionary to store the attention matrix\n",
        "attention_viz_data = {}\n",
        "\n",
        "def visualize_attention(model, tokenizer, prompt, layer_number):\n",
        "    \"\"\"\n",
        "    Visualizes the QK^T attention matrix for a given prompt and layer,\n",
        "\n",
        "    Args:\n",
        "        model: The Unsloth Qwen3 14B model.\n",
        "        tokenizer: The tokenizer for the model.\n",
        "        prompt (str): The input text prompt.\n",
        "        layer_number (int): The decoder layer number to visualize.\n",
        "    \"\"\"\n",
        "    attention_viz_data.clear()\n",
        "\n",
        "    # 1. Get a reference to the specific attention layer\n",
        "    try:\n",
        "        attention_layer = model.base_model.model.model.layers[layer_number].self_attn\n",
        "    except AttributeError as e:\n",
        "        print(f\"Could not find the specified layer. Please double-check the model architecture path. Error: {e}\")\n",
        "        return\n",
        "\n",
        "    # 2. Store the original forward method\n",
        "    original_forward = attention_layer.forward\n",
        "\n",
        "    def new_forward(self, hidden_states, *args, **kwargs):\n",
        "        \"\"\"A new forward method to capture the QK^T matrix.\"\"\"\n",
        "\n",
        "        bsz, q_len, _ = hidden_states.size()\n",
        "\n",
        "        # Project to Q, K\n",
        "        Q_all_heads = self.q_proj(hidden_states)\n",
        "        K_all_heads = self.k_proj(hidden_states)\n",
        "\n",
        "        # Reshape for multi-head attention. Note the different head counts.\n",
        "        Q_all_heads = Q_all_heads.view(bsz, q_len, self.config.num_attention_heads, self.head_dim).transpose(1, 2)\n",
        "        K_all_heads = K_all_heads.view(bsz, q_len, self.config.num_key_value_heads, self.head_dim).transpose(1, 2)\n",
        "\n",
        "        # Get rotary embeddings\n",
        "        cos, sin = self.rotary_emb(K_all_heads, seq_len=q_len)\n",
        "\n",
        "        # Apply rotary embeddings directly\n",
        "        Q_all_heads = (Q_all_heads * cos) + (rotate_half(Q_all_heads) * sin)\n",
        "        K_all_heads = (K_all_heads * cos) + (rotate_half(K_all_heads) * sin)\n",
        "\n",
        "        # Repeat the key heads to match the number of query heads.\n",
        "        num_key_value_groups = self.config.num_attention_heads // self.config.num_key_value_heads\n",
        "        if num_key_value_groups > 1:\n",
        "            K_all_heads = K_all_heads.repeat_interleave(num_key_value_groups, dim=1)\n",
        "\n",
        "        # Now, the dimensions match for matrix multiplication:\n",
        "        # Q_all_heads: [1, 40, 29, 128] = [batch_size, num_heads, seq_len, head_dim]\n",
        "        # K_all_heads: [1, 40, 29, 128] = [batch_size, num_heads, seq_len, head_dim]\n",
        "\n",
        "        Q = Q_all_heads[0, 0]  # Queries of the first head\n",
        "        K = K_all_heads[0, 0]  # Keys of the first head\n",
        "\n",
        "        ########## TODO: CALCULATE QK^T ############\n",
        "        attention = torch.matmul(Q, K.transpose(-1, -2)) / self.head_dim**0.5\n",
        "\n",
        "        # Store the matrix for visualization\n",
        "        attention_viz_data['qk_t'] = attention.detach()\n",
        "\n",
        "        # Call the original forward method to ensure the model's computation continues normally\n",
        "        return original_forward(hidden_states, *args, **kwargs)\n",
        "\n",
        "    # 3. Monkey-patch the layer's forward method\n",
        "    try:\n",
        "        attention_layer.forward = new_forward.__get__(attention_layer, type(attention_layer))\n",
        "\n",
        "        # 4. Prepare and run the model\n",
        "        inputs = tokenizer(prompt, return_tensors=\"pt\")\n",
        "        input_ids = inputs.input_ids.to(model.device)\n",
        "\n",
        "        with torch.no_grad():\n",
        "            _ = model(input_ids)\n",
        "\n",
        "    finally:\n",
        "        # 5. Restore the original forward method\n",
        "        attention_layer.forward = original_forward\n",
        "\n",
        "    # 6. Visualize the captured data\n",
        "    if 'qk_t' in attention_viz_data:\n",
        "        # We visualize the scores for the first head of the first batch item\n",
        "        qk_matrix = attention_viz_data['qk_t'].cpu().float().numpy()\n",
        "\n",
        "        tokens = tokenizer.convert_ids_to_tokens(input_ids[0])\n",
        "        tokens = [token[1:] if token[0] == 'Ġ' else token for token in tokens]\n",
        "\n",
        "        plt.figure(figsize=(12, 10))\n",
        "        im = plt.imshow(qk_matrix, cmap='viridis', interpolation='nearest')\n",
        "        plt.colorbar(im, label='Attention Score (Logits)')\n",
        "        plt.xticks(ticks=np.arange(len(tokens)), labels=tokens, rotation=90)\n",
        "        plt.yticks(ticks=np.arange(len(tokens)), labels=tokens)\n",
        "        plt.xlabel(\"Key Tokens\")\n",
        "        plt.ylabel(\"Query Tokens\")\n",
        "        plt.title(f\"QK^T Matrix Visualization for Layer {layer_number}, Head 0\")\n",
        "        plt.tight_layout()\n",
        "        plt.show()\n",
        "    else:\n",
        "        print(f\"Failed to capture the QK^T matrix for layer {layer_number}.\")"
      ]
    },
    {
      "cell_type": "code",
      "execution_count": 21,
      "metadata": {
        "id": "NHyM_3_S39Vs",
        "colab": {
          "base_uri": "https://localhost:8080/",
          "height": 1000
        },
        "outputId": "256b7baf-65b7-435e-9469-9b2243ace18f"
      },
      "outputs": [
        {
          "output_type": "display_data",
          "data": {
            "text/plain": [
              "<Figure size 1200x1000 with 2 Axes>"
            ],
            "image/png": "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\n"
          },
          "metadata": {}
        }
      ],
      "source": [
        "example_text = \"Find all integers x and y such that x^2 - y^2 = 5.\"\n",
        "\n",
        "visualize_attention(model, tokenizer, example_text, 0)"
      ]
    },
    {
      "cell_type": "markdown",
      "metadata": {
        "id": "uGlnY8jc39Vu"
      },
      "source": [
        "### Exercise 3: Choose your own example text. Find **two** pairs of two distinct words with the highest attention values. Why do you think those two pairs have the highest attention values?"
      ]
    },
    {
      "cell_type": "code",
      "execution_count": 22,
      "metadata": {
        "id": "QrGY-d7I39Vv",
        "colab": {
          "base_uri": "https://localhost:8080/",
          "height": 1000
        },
        "outputId": "3cd13dd1-0d66-4580-ca8b-a8d94159c7b1"
      },
      "outputs": [
        {
          "output_type": "display_data",
          "data": {
            "text/plain": [
              "<Figure size 1200x1000 with 2 Axes>"
            ],
            "image/png": "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\n"
          },
          "metadata": {}
        }
      ],
      "source": [
        "### YOUR CODE HERE ###\n",
        "my_example_text = \"Machine learning is a branch of artificial intelligence.\"\n",
        "\n",
        "# Visualize attention for your example text on layer 0\n",
        "visualize_attention(model, tokenizer, my_example_text, 0)"
      ]
    },
    {
      "cell_type": "markdown",
      "metadata": {
        "id": "c7udbPKC39Vw"
      },
      "source": [
        "**Answers to Exercise 3**\n",
        "\n",
        "จากภาพพบว่า:\n",
        "- คำที่ Model ให้ค่าความสนใจ (attention score) สูงสุดคือ “is” และ “a” (แสดงเป็นสีเหลือง) หมายถึง โมเดลให้ความสนใจมากกับความเชื่อมโยงระหว่างคำกริยาและคำนำหน้านี้\n",
        "\n",
        "- คู่คำที่ Model ให้ค่าความสนใจสูงแต่ไม่สูงสุดมีอยู่ 2 คู่หลักๆ คือ\n",
        "\n",
        "    1. “Machine” & “learning” เชื่อมโยงกันเพื่อสร้างความหมาย “การเรียนรู้ของเครื่อง”\n",
        "\n",
        "    2. “artificial” & “intelligence” เชื่อมโยงกันเพื่อสร้างความหมาย “ปัญญาประดิษฐ์”\n",
        "\n",
        "- คำอื่นๆ เช่น “branch” และ “of” ที่มี attention score อยู่ในระดับกลางๆ อาจกล่าวได้ว่า Model ใช้คำเหล่านี้เป็นตัวเชื่อมโครงสร้างประโยค\n",
        "\n",
        "สรุป: Model ในเลเยอร์แรกยังไม่เข้าใจความหมายเชิงลึกของประโยค แต่สามารถจับความเชื่อมโยงระหว่างคำที่อยู่ติดกันและเป็น phrase สำคัญ เช่น Machine learning และ artificial intelligence ได้ถูกต้อง และให้ความสนใจสูงกับคำกริยาเชื่อมประโยค เช่น is และ a"
      ]
    },
    {
      "cell_type": "markdown",
      "metadata": {
        "id": "uMuVrWbjAzhc"
      },
      "source": [
        "<a name=\"Save\"></a>\n",
        "### Saving, loading finetuned models\n",
        "To save the final model as LoRA adapters, either use Huggingface's `push_to_hub` for an online save or `save_pretrained` for a local save.\n",
        "\n",
        "**[NOTE]** This ONLY saves the LoRA adapters, and not the full model. To save to 16bit or GGUF, scroll down!"
      ]
    },
    {
      "cell_type": "code",
      "execution_count": 23,
      "metadata": {
        "id": "upcOlWe7A1vc",
        "colab": {
          "base_uri": "https://localhost:8080/"
        },
        "outputId": "48cad975-bb79-498e-fc73-7d09cf1068e0"
      },
      "outputs": [
        {
          "output_type": "execute_result",
          "data": {
            "text/plain": [
              "('lora_model/tokenizer_config.json',\n",
              " 'lora_model/special_tokens_map.json',\n",
              " 'lora_model/chat_template.jinja',\n",
              " 'lora_model/vocab.json',\n",
              " 'lora_model/merges.txt',\n",
              " 'lora_model/added_tokens.json',\n",
              " 'lora_model/tokenizer.json')"
            ]
          },
          "metadata": {},
          "execution_count": 23
        }
      ],
      "source": [
        "model.save_pretrained(\"lora_model\")  # Local saving\n",
        "tokenizer.save_pretrained(\"lora_model\")\n",
        "# model.push_to_hub(\"your_name/lora_model\", token = \"...\") # Online saving\n",
        "# tokenizer.push_to_hub(\"your_name/lora_model\", token = \"...\") # Online saving"
      ]
    },
    {
      "cell_type": "markdown",
      "metadata": {
        "id": "AEEcJ4qfC7Lp"
      },
      "source": [
        "Now if you want to load the LoRA adapters we just saved for inference, set `False` to `True`:"
      ]
    },
    {
      "cell_type": "code",
      "execution_count": 24,
      "metadata": {
        "id": "MKX_XKs_BNZR"
      },
      "outputs": [],
      "source": [
        "if False:\n",
        "    from unsloth import FastLanguageModel\n",
        "    model, tokenizer = FastLanguageModel.from_pretrained(\n",
        "        model_name = \"lora_model\", # YOUR MODEL YOU USED FOR TRAINING\n",
        "        max_seq_length = 2048,\n",
        "        load_in_4bit = True,\n",
        "    )"
      ]
    },
    {
      "cell_type": "markdown",
      "metadata": {
        "id": "f422JgM9sdVT"
      },
      "source": [
        "### Saving to float16 for VLLM\n",
        "\n",
        "We also support saving to `float16` directly. Select `merged_16bit` for float16 or `merged_4bit` for int4. We also allow `lora` adapters as a fallback. Use `push_to_hub_merged` to upload to your Hugging Face account! You can go to https://huggingface.co/settings/tokens for your personal tokens."
      ]
    },
    {
      "cell_type": "code",
      "execution_count": 25,
      "metadata": {
        "id": "iHjt_SMYsd3P"
      },
      "outputs": [],
      "source": [
        "# Merge to 16bit\n",
        "if False:\n",
        "    model.save_pretrained_merged(\"model\", tokenizer, save_method = \"merged_16bit\",)\n",
        "if False: # Pushing to HF Hub\n",
        "    model.push_to_hub_merged(\"hf/model\", tokenizer, save_method = \"merged_16bit\", token = \"\")\n",
        "\n",
        "# Merge to 4bit\n",
        "if False:\n",
        "    model.save_pretrained_merged(\"model\", tokenizer, save_method = \"merged_4bit\",)\n",
        "if False: # Pushing to HF Hub\n",
        "    model.push_to_hub_merged(\"hf/model\", tokenizer, save_method = \"merged_4bit\", token = \"\")\n",
        "\n",
        "# Just LoRA adapters\n",
        "if False:\n",
        "    model.save_pretrained(\"model\")\n",
        "    tokenizer.save_pretrained(\"model\")\n",
        "if False: # Pushing to HF Hub\n",
        "    model.push_to_hub(\"hf/model\", token = \"\")\n",
        "    tokenizer.push_to_hub(\"hf/model\", token = \"\")\n"
      ]
    }
  ],
  "metadata": {
    "accelerator": "GPU",
    "colab": {
      "gpuType": "T4",
      "provenance": [],
      "toc_visible": true
    },
    "kernelspec": {
      "display_name": "Python 3",
      "language": "python",
      "name": "python3"
    },
    "language_info": {
      "codemirror_mode": {
        "name": "ipython",
        "version": 3
      },
      "file_extension": ".py",
      "mimetype": "text/x-python",
      "name": "python",
      "nbconvert_exporter": "python",
      "pygments_lexer": "ipython3",
      "version": "3.10.10"
    },
      
  "nbformat": 4,
  "nbformat_minor": 0
}
}